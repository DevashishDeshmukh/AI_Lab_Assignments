{
  "nbformat": 4,
  "nbformat_minor": 0,
  "metadata": {
    "colab": {
      "provenance": [],
      "authorship_tag": "ABX9TyMch1eLVaLQ6OEOjHNZWBTa",
      "include_colab_link": true
    },
    "kernelspec": {
      "name": "python3",
      "display_name": "Python 3"
    },
    "language_info": {
      "name": "python"
    }
  },
  "cells": [
    {
      "cell_type": "markdown",
      "metadata": {
        "id": "view-in-github",
        "colab_type": "text"
      },
      "source": [
        "<a href=\"https://colab.research.google.com/github/DevashishDeshmukh/AI_Lab_Assignments/blob/main/Question2.ipynb\" target=\"_parent\"><img src=\"https://colab.research.google.com/assets/colab-badge.svg\" alt=\"Open In Colab\"/></a>"
      ]
    },
    {
      "cell_type": "code",
      "execution_count": 2,
      "metadata": {
        "colab": {
          "base_uri": "https://localhost:8080/",
          "height": 356
        },
        "id": "FDJAVpS_HiII",
        "outputId": "7bfc3c32-a860-4e81-de2f-61d9b0d74f44"
      },
      "outputs": [
        {
          "output_type": "error",
          "ename": "IndexError",
          "evalue": "ignored",
          "traceback": [
            "\u001b[0;31m---------------------------------------------------------------------------\u001b[0m",
            "\u001b[0;31mIndexError\u001b[0m                                Traceback (most recent call last)",
            "\u001b[0;32m<ipython-input-2-7d99d3769f83>\u001b[0m in \u001b[0;36m<cell line: 72>\u001b[0;34m()\u001b[0m\n\u001b[1;32m     70\u001b[0m \u001b[0;34m\u001b[0m\u001b[0m\n\u001b[1;32m     71\u001b[0m \u001b[0;31m# Solve the MDP\u001b[0m\u001b[0;34m\u001b[0m\u001b[0;34m\u001b[0m\u001b[0m\n\u001b[0;32m---> 72\u001b[0;31m \u001b[0mV\u001b[0m \u001b[0;34m=\u001b[0m \u001b[0mvalue_iteration\u001b[0m\u001b[0;34m(\u001b[0m\u001b[0;34m)\u001b[0m\u001b[0;34m\u001b[0m\u001b[0;34m\u001b[0m\u001b[0m\n\u001b[0m\u001b[1;32m     73\u001b[0m \u001b[0;34m\u001b[0m\u001b[0m\n\u001b[1;32m     74\u001b[0m \u001b[0;31m# Extract the optimal policy\u001b[0m\u001b[0;34m\u001b[0m\u001b[0;34m\u001b[0m\u001b[0m\n",
            "\u001b[0;32m<ipython-input-2-7d99d3769f83>\u001b[0m in \u001b[0;36mvalue_iteration\u001b[0;34m(theta, discount_factor)\u001b[0m\n\u001b[1;32m     64\u001b[0m                         \u001b[0mnext_beds_normal\u001b[0m \u001b[0;34m=\u001b[0m \u001b[0mnext_state\u001b[0m\u001b[0;34m[\u001b[0m\u001b[0;36m2\u001b[0m\u001b[0;34m]\u001b[0m\u001b[0;34m\u001b[0m\u001b[0;34m\u001b[0m\u001b[0m\n\u001b[1;32m     65\u001b[0m                         \u001b[0mnext_week\u001b[0m \u001b[0;34m=\u001b[0m \u001b[0mweek\u001b[0m \u001b[0;34m+\u001b[0m \u001b[0;36m1\u001b[0m \u001b[0;32mif\u001b[0m \u001b[0mweek\u001b[0m \u001b[0;34m<\u001b[0m \u001b[0;36m3\u001b[0m \u001b[0;32melse\u001b[0m \u001b[0;36m0\u001b[0m\u001b[0;34m\u001b[0m\u001b[0;34m\u001b[0m\u001b[0m\n\u001b[0;32m---> 66\u001b[0;31m                         \u001b[0maction_values\u001b[0m\u001b[0;34m.\u001b[0m\u001b[0mappend\u001b[0m\u001b[0;34m(\u001b[0m\u001b[0mreward\u001b[0m \u001b[0;34m+\u001b[0m \u001b[0mdiscount_factor\u001b[0m \u001b[0;34m*\u001b[0m \u001b[0mV\u001b[0m\u001b[0;34m[\u001b[0m\u001b[0mnext_age_group\u001b[0m\u001b[0;34m,\u001b[0m \u001b[0mnext_beds_normal\u001b[0m\u001b[0;34m,\u001b[0m \u001b[0mnext_week\u001b[0m\u001b[0;34m]\u001b[0m\u001b[0;34m)\u001b[0m\u001b[0;34m\u001b[0m\u001b[0;34m\u001b[0m\u001b[0m\n\u001b[0m\u001b[1;32m     67\u001b[0m                     \u001b[0mV\u001b[0m\u001b[0;34m[\u001b[0m\u001b[0mage_group\u001b[0m\u001b[0;34m,\u001b[0m \u001b[0mbeds_normal\u001b[0m\u001b[0;34m,\u001b[0m \u001b[0mweek\u001b[0m\u001b[0;34m]\u001b[0m \u001b[0;34m=\u001b[0m \u001b[0mmax\u001b[0m\u001b[0;34m(\u001b[0m\u001b[0maction_values\u001b[0m\u001b[0;34m)\u001b[0m\u001b[0;34m\u001b[0m\u001b[0;34m\u001b[0m\u001b[0m\n\u001b[1;32m     68\u001b[0m                     \u001b[0mdelta\u001b[0m \u001b[0;34m=\u001b[0m \u001b[0mmax\u001b[0m\u001b[0;34m(\u001b[0m\u001b[0mdelta\u001b[0m\u001b[0;34m,\u001b[0m \u001b[0mabs\u001b[0m\u001b[0;34m(\u001b[0m\u001b[0mv\u001b[0m \u001b[0;34m-\u001b[0m \u001b[0mV\u001b[0m\u001b[0;34m[\u001b[0m\u001b[0mage_group\u001b[0m\u001b[0;34m,\u001b[0m \u001b[0mbeds_normal\u001b[0m\u001b[0;34m,\u001b[0m \u001b[0mweek\u001b[0m\u001b[0;34m]\u001b[0m\u001b[0;34m)\u001b[0m\u001b[0;34m)\u001b[0m\u001b[0;34m\u001b[0m\u001b[0;34m\u001b[0m\u001b[0m\n",
            "\u001b[0;31mIndexError\u001b[0m: only integers, slices (`:`), ellipsis (`...`), numpy.newaxis (`None`) and integer or boolean arrays are valid indices"
          ]
        }
      ],
      "source": [
        "import numpy as np\n",
        "from scipy.stats import norm, poisson\n",
        "\n",
        "# Define the population distribution by age group\n",
        "ageGrpDistribution = np.array([0.38, 0.33, 0.23, 0.06])\n",
        "pop_total = 8700000  # Total population of the city\n",
        "\n",
        "# Define the initial number of normal and covid beds\n",
        "MaxNormalBeds = 650\n",
        "MaxCovidBeds = 0\n",
        "discount_factor=0.9\n",
        "# Define the cost parameters\n",
        "DOS_cost_normal_beds = 500\n",
        "DOS_cost_covid_beds = 2000\n",
        "converted_beds = 10000\n",
        "\n",
        "# Define the range of beds to convert from normal to covid\n",
        "beds_convert_range = np.arange(0, MaxNormalBeds + 1, 50)\n",
        "\n",
        "# Define the transition function\n",
        "def transition_prob_func(state, action):\n",
        "    # Unpack the state\n",
        "    ageGrpDistribution, pop_total, beds_normal, beds_covid = state\n",
        "    \n",
        "    # Calculate the number of requests for normal and covid beds\n",
        "    requests_normal = np.sum(poisson.rvs(0.1, size=len(ageGrpDistribution)) * ageGrpDistribution)\n",
        "    requests_covid = np.sum(poisson.rvs(0.05, size=len(ageGrpDistribution)) * ageGrpDistribution)\n",
        "    \n",
        "    # Calculate the number of discharges for normal and covid beds\n",
        "    discharges_normal = poisson.rvs(beds_normal)\n",
        "    discharges_covid = poisson.rvs(beds_covid,)\n",
        "    \n",
        "    # Calculate the number of denied requests for normal and covid beds\n",
        "    denied_normal = max(requests_normal - beds_normal - action, 0)\n",
        "    denied_covid = max(requests_covid - beds_covid, 0)\n",
        "    \n",
        "    # Calculate the new state after accounting for the action and the probabilistic transitions\n",
        "    newNormalBeds = max(min(beds_normal + requests_normal - discharges_normal - action, MaxNormalBeds), 0)\n",
        "    newCovidBeds = max(min(beds_covid + requests_covid - discharges_covid, MaxNormalBeds), 0)\n",
        "    new_ageGrpDistribution = ageGrpDistribution + norm.rvs(scale=1, size=len(ageGrpDistribution))\n",
        "    newTotalPop = max(min(pop_total + norm.rvs(scale=0.1), 10000000), 0)\n",
        "    \n",
        "    # Calculate the reward for the transition\n",
        "    reward = -DOS_cost_normal_beds * denied_normal \\\n",
        "             -DOS_cost_covid_beds * denied_covid \\\n",
        "             -converted_beds * action\n",
        "    \n",
        "    return ((new_ageGrpDistribution, newTotalPop, newNormalBeds, newCovidBeds), reward)\n",
        "\n",
        "# Define the value iteration function to solve the MDP\n",
        "def value_iteration(theta=0.0001, discount_factor=0.9):\n",
        "    V = np.zeros((ageGrpDistribution.size+2, MaxNormalBeds+1, 4))\n",
        "    delta = float('inf')\n",
        "    while delta > theta:\n",
        "        delta = 0\n",
        "        for age_group in range(ageGrpDistribution.size+2):\n",
        "            for beds_normal in range(MaxNormalBeds+1):\n",
        "                for week in range(4):\n",
        "                    v = V[age_group, beds_normal, week]\n",
        "                    action_values = []\n",
        "                    for action in beds_convert_range:\n",
        "                        next_state, reward = transition_prob_func((ageGrpDistribution, pop_total, beds_normal, MaxCovidBeds), action)\n",
        "                        next_age_group = np.clip(np.sum(next_state[0] * ageGrpDistribution / next_state[1]), 0                        , len(ageGrpDistribution)+1)\n",
        "                        next_beds_normal = next_state[2]\n",
        "                        next_week = week + 1 if week < 3 else 0\n",
        "                        action_values.append(reward + discount_factor * V[next_age_group, next_beds_normal, next_week])\n",
        "                    V[age_group, beds_normal, week] = max(action_values)\n",
        "                    delta = max(delta, abs(v - V[age_group, beds_normal, week]))\n",
        "    return V\n",
        "\n",
        "# Solve the MDP\n",
        "V = value_iteration()\n",
        "\n",
        "# Extract the optimal policy\n",
        "policy = np.zeros((ageGrpDistribution.size+2, MaxNormalBeds+1, 4))\n",
        "for age_group in range(ageGrpDistribution.size+2):\n",
        "    for beds_normal in range(MaxNormalBeds+1):\n",
        "        for week in range(4):\n",
        "            action_values = []\n",
        "            for action in beds_convert_range:\n",
        "                next_state, reward = transition_prob_func((ageGrpDistribution, pop_total, beds_normal, MaxCovidBeds), action)\n",
        "                next_age_group = np.clip(np.sum(next_state[0] * ageGrpDistribution / next_state[1]), 0, len(ageGrpDistribution)+1)\n",
        "                next_beds_normal = next_state[2]\n",
        "                next_week = week + 1 if week < 3 else 0\n",
        "                action_values.append(reward + discount_factor * V[next_age_group, next_beds_normal, next_week])\n",
        "            policy[age_group, beds_normal, week] = beds_convert_range[np.argmax(action_values)]\n",
        "\n",
        "# Print the optimal policy for each week\n",
        "for week in range(4):\n",
        "    print(f\"Week {week+1}:\")\n",
        "    print(\"Age Group\\tNormal Beds\\tConvert to Covid Beds\")\n",
        "    for age_group in range(ageGrpDistribution.size+2):\n",
        "        for beds_normal in range(MaxNormalBeds+1):\n",
        "            print(f\"{age_group}\\t\\t{beds_normal}\\t\\t{policy[age_group, beds_normal, week]}\")\n",
        "\n"
      ]
    }
  ]
}